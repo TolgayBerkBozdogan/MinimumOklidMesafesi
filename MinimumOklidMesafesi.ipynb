{
 "cells": [
  {
   "cell_type": "code",
   "execution_count": 7,
   "id": "0f26cb49",
   "metadata": {},
   "outputs": [
    {
     "name": "stdout",
     "output_type": "stream",
     "text": [
      "En küçük mesafe: 2.8284271247461903\n"
     ]
    }
   ],
   "source": [
    "import math\n",
    "\n",
    "def euclideanDistance(point1, point2):\n",
    "  \"\"\"\n",
    "  İki nokta arasındaki Öklid mesafesini hesaplar.\n",
    "\n",
    "  Args:\n",
    "    point1: (x1, y1) şeklinde bir demet olan ilk nokta.\n",
    "    point2: (x2, y2) şeklinde bir demet olan ikinci nokta.\n",
    "\n",
    "  Returns:\n",
    "    İki nokta arasındaki Öklid mesafesi.\n",
    "  \"\"\"\n",
    "  x1, y1 = point1\n",
    "  x2, y2 = point2\n",
    "  return math.sqrt((x2 - x1)**2 + (y2 - y1)**2)\n",
    "\n",
    "def findMinimumDistance(points):\n",
    "  \"\"\"\n",
    "  Bir nokta listesindeki her nokta çifti arasındaki Öklid mesafesini hesaplar \n",
    "  ve en küçük mesafeyi bulur.\n",
    "\n",
    "  Args:\n",
    "    points: 2D uzaydaki noktaları temsil eden demetlerin bir listesi.\n",
    "\n",
    "  Returns:\n",
    "    En küçük mesafe değeri.\n",
    "  \"\"\"\n",
    "  distances = []\n",
    "  for i in range(len(points)):\n",
    "    for j in range(i + 1, len(points)):\n",
    "      distance = euclideanDistance(points[i], points[j])\n",
    "      distances.append(distance)\n",
    "\n",
    "  minimumDistance = min(distances)\n",
    "  return minimumDistance\n",
    "\n",
    "# Noktaları tanımlayın\n",
    "points = [(1, 2), (3, 4), (5, 6), (7, 8)]\n",
    "\n",
    "# En küçük mesafeyi bulun\n",
    "minimumDistance = findMinimumDistance(points)\n",
    "\n",
    "# Sonucu yazdırın\n",
    "print(\"En küçük mesafe:\", minimumDistance)\n"
   ]
  },
  {
   "cell_type": "code",
   "execution_count": 9,
   "id": "278a5211",
   "metadata": {},
   "outputs": [
    {
     "ename": "SyntaxError",
     "evalue": "invalid syntax (855298604.py, line 1)",
     "output_type": "error",
     "traceback": [
      "\u001b[1;36m  Cell \u001b[1;32mIn[9], line 1\u001b[1;36m\u001b[0m\n\u001b[1;33m    git init\u001b[0m\n\u001b[1;37m        ^\u001b[0m\n\u001b[1;31mSyntaxError\u001b[0m\u001b[1;31m:\u001b[0m invalid syntax\n"
     ]
    }
   ],
   "source": [
    "git init\n",
    "git add <dosya_adı>.ipynb\n",
    "git commit -m \"İlk dosya eklendi\""
   ]
  },
  {
   "cell_type": "code",
   "execution_count": null,
   "id": "c02efd10",
   "metadata": {},
   "outputs": [],
   "source": []
  }
 ],
 "metadata": {
  "kernelspec": {
   "display_name": "Python 3 (ipykernel)",
   "language": "python",
   "name": "python3"
  },
  "language_info": {
   "codemirror_mode": {
    "name": "ipython",
    "version": 3
   },
   "file_extension": ".py",
   "mimetype": "text/x-python",
   "name": "python",
   "nbconvert_exporter": "python",
   "pygments_lexer": "ipython3",
   "version": "3.11.7"
  }
 },
 "nbformat": 4,
 "nbformat_minor": 5
}
